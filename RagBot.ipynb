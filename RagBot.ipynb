{
 "cells": [
  {
   "cell_type": "code",
   "execution_count": 33,
   "id": "528b5146",
   "metadata": {},
   "outputs": [
    {
     "name": "stdout",
     "output_type": "stream",
     "text": [
      "\n",
      "Top results for query: 'Chi era Devens?'\n",
      "\n",
      "Result 1:\n",
      "\n",
      "Richard Niller Devens Utilizzò per la prima volta questo termine in una delle sue opere, la Psicofidia of Commercial Business Anne a Netflix. Devens descriveva come un certo siren rivornese, noto banchiere dell'epoca, riuscisse tramite, diciamo, La sua conoscenza, la sua abilità di raccogliere informazioni, analizzare le informazioni dei mercati e della politica, ad trarre dei vantaggi rispetto ai suoi concorrenti. In pratica.\n",
      "\n",
      "Result 2:\n",
      "\n",
      "Questi dati debbono essere omogeneizzati per capire l'eterogeneità di questi dati. Possiamo pensare che i dati possono essere strutturati come delle tabelle, potrebbero risiedere in database relazionali, potrebbero essere organizzati in modo prevedibile, ma anche in modo non prevedibile, come ad esempio potrebbero essere testi liberi, immagini, segmenti audio, video, email.\n",
      "\n",
      "Result 3:\n",
      "\n",
      "I sistemi digitali inoltre, anche quelli che non sono strumentati per generali dati, possono esserlo al luogo, diciamo, se se dovesse servire, e questo consente non solo di generare una marea di dati ulteriore rispetto a quelli precedentemente detti diciamo sui sistemi di trasformazione digitale preesistenti, ma consente anche di avere degli strumenti che sono in grado di catalogare e organizzare questa marea di dati senza un sistema DBI adeguato.\n",
      "\n"
     ]
    }
   ],
   "source": [
    "# FULL CODE\n",
    "\n",
    "import chromadb\n",
    "from chromadb import PersistentClient\n",
    "from langchain.text_splitter import RecursiveCharacterTextSplitter\n",
    "from openai import OpenAI\n",
    "from dotenv import load_dotenv\n",
    "import os\n",
    "load_dotenv('.env')\n",
    "\n",
    "\n",
    "# Step 1: Load text from file\n",
    "with open(\"transcript_clean.txt\", \"r\", encoding=\"utf-8\") as file:\n",
    "    text_to_chunk = file.read()\n",
    "\n",
    "# Step 2: Create a text splitter\n",
    "text_splitter = RecursiveCharacterTextSplitter(\n",
    "    separators=[\"\\n\"],\n",
    "    chunk_size=300,\n",
    "    chunk_overlap=50,\n",
    ")\n",
    "\n",
    "# Step 3: Split the document into chunks\n",
    "chunks = text_splitter.create_documents([text_to_chunk])\n",
    "\n",
    "# Step 4: Create Chroma client and collection\n",
    "chroma_client = chromadb.PersistentClient(path=\"/Users/natalienitz/Desktop/DigitEd/Data\")\n",
    "collection = chroma_client.get_or_create_collection(\n",
    "    name=\"test_bizint_chunks\",\n",
    "    metadata={\"hnsw:space\": \"cosine\"}\n",
    ")\n",
    "\n",
    "# Step 5: Add chunks to the collection\n",
    "for idx, chunk in enumerate(chunks):\n",
    "    collection.add(\n",
    "        documents=[chunk.page_content],\n",
    "        ids=[f\"chunk_{idx}\"],\n",
    "        metadatas=[{\n",
    "            \"chunk_index\": idx,\n",
    "            \"source\": \"transcript_clean.txt\"\n",
    "        }]\n",
    "    )\n",
    "\n",
    "client = OpenAI(api_key=os.environ.get('OPENAI_API_KEY'))\n",
    "\n",
    "# Step 6: Query the collection\n",
    "query_text = \"Chi era Devens?\"\n",
    "results = collection.query(query_texts=[query_text], n_results=3)\n",
    "\n",
    "# Step 7: Print the results\n",
    "print(f\"\\nTop results for query: '{query_text}'\\n\")\n",
    "for i, doc in enumerate(results['documents'][0]):\n",
    "    print(f\"Result {i+1}:\\n{doc}\\n\")"
   ]
  },
  {
   "cell_type": "code",
   "execution_count": 34,
   "id": "d13e4daa",
   "metadata": {},
   "outputs": [],
   "source": [
    "def get_completion(user_prompt, system_prompt, model=\"gpt-4\"):\n",
    "    completion = client.chat.completions.create(\n",
    "        model=model,\n",
    "        messages=[\n",
    "            {\"role\": \"system\", \"content\": system_prompt},\n",
    "            {\"role\": \"user\", \"content\": user_prompt}\n",
    "        ]\n",
    "    )\n",
    "    return completion.choices[0].message.content\n",
    "\n",
    "\n",
    "system_prompt = \"You are a helpful RAG search assistant who uses results from a text document to answer user queries.\""
   ]
  },
  {
   "cell_type": "code",
   "execution_count": 35,
   "id": "c705477f",
   "metadata": {},
   "outputs": [],
   "source": [
    "# Prompt the model with a user query\n",
    "\n",
    "def make_rag_prompt(query, result_str):\n",
    "  return f\"\"\"\n",
    "Instructions:\n",
    "Your task is to answer the following user question. The search results of a document search have been included to give you more context. Use the information in Search Results to help you answer the question accurately.\n",
    "Not all information in the search results will be useful. However, if you find any information that's useful for answering the user's question, draw from it in your answer. At the end of your answer, cite the URL of the search result your answer draws from. Use the following format: <Your answer here>. Source: <URL of the search result your answer comes from here>\n",
    "\n",
    "\n",
    "\n",
    "User question:\n",
    "{query}\n",
    "\n",
    "\n",
    "Search Results:\n",
    "{result_str}\n",
    "\n",
    "\n",
    "Your answer:\n",
    "\"\"\""
   ]
  },
  {
   "cell_type": "code",
   "execution_count": null,
   "id": "9875fa8b",
   "metadata": {},
   "outputs": [],
   "source": []
  },
  {
   "cell_type": "code",
   "execution_count": 36,
   "id": "b10356f7",
   "metadata": {},
   "outputs": [
    {
     "name": "stdout",
     "output_type": "stream",
     "text": [
      "\n",
      "********This is the RAG prompt********\n",
      "\n",
      "\n",
      "Instructions:\n",
      "Your task is to answer the following user question. The search results of a document search have been included to give you more context. Use the information in Search Results to help you answer the question accurately.\n",
      "Not all information in the search results will be useful. However, if you find any information that's useful for answering the user's question, draw from it in your answer. At the end of your answer, cite the URL of the search result your answer draws from. Use the following format: <Your answer here>. Source: <URL of the search result your answer comes from here>\n",
      "\n",
      "\n",
      "\n",
      "User question:\n",
      "Come le aziende possono usare i dati per prendere decisioni?\n",
      "\n",
      "\n",
      "Search Results:\n",
      "\n",
      "Solo in questo caso, diciamo come possono essere utilizzare utilizzati in maniera proficua per i processi decisionali. In particolare possono aiutare a comprendere tendenze oppure a fare delle analisi previsionali di quelli che saranno i comportamenti futuri dell'azienda, del personale dell'azienda, ma anche del mercato del contesto operativo dell'azienda stessa. E possono aiutare a definire delle strategie che consentano di rendere più efficace.\n",
      "Che ovviamente possono mutare nel tempo. E questi dati consentono di offrire quindi prodotti e servizi in linea con le aspettative, migliorando la soddisfazione e tramite i processi, diciamo, della personalizzazione dei prodotti o delle offerte, aumentare la fedeltà del cliente verso l'azienda. Infine, la business intelligence può aiutare a promuovere una cultura aziendale orientata sui dati. OK, in cui tutte le scelte, tutte diciamo le scelte strategiche dell'azienda.\n",
      "Per que tutti quelli che sono i processi e le strategie che l'azienda medica. In che modo la Business intelligence supporta le decisioni nelle aziende? La business intelligence rappresenta un potente alleato per le organizzazioni in termini di supporto decisionale, offrendo una base solida e rigorosa e l'analisi di business e la pianificazione strategica. Sono diversi gli aspetti che concorrono di fatto a supportare decisioni all'interno di una organizzazione o di un'azienda.\n",
      "\n",
      "\n",
      "Your answer:\n",
      "\n",
      "\n",
      "*********************************\n",
      "\n"
     ]
    },
    {
     "data": {
      "text/plain": [
       "\"Le aziende possono utilizzare i dati per prendere decisioni in vari modi. Essi possono aiutare a comprendere le tendenze e fare analisi previsionali dei comportamenti futuri dell'azienda, del personale e del mercato. I dati permettono di definire delle strategie per rendere più efficace l'azienda e offrire prodotti e servizi che soddisfino le aspettative del cliente, migliorando la loro soddisfazione e aumentando la loro fedeltà all'azienda. Infine, l'utilizzo dei dati aiuta a promuovere una cultura aziendale orientata ai dati, in cui tutte le scelte strategiche vengono prese sulla base dei dati raccolti. Processi come la Business Intelligence rappresentano un supporto decisionale importante, offrendo una base solida e rigorosa per l'analisi di business e la pianificazione strategica.\""
      ]
     },
     "execution_count": 36,
     "metadata": {},
     "output_type": "execute_result"
    }
   ],
   "source": [
    "def get_RAG_completion(query, n_results=3):\n",
    "  \n",
    "    search_results = collection.query(query_texts=[query], n_results=n_results)\n",
    "    result_str = \"\"\n",
    "    for result in search_results[\"documents\"][0]:\n",
    "        result_str += result\n",
    "\n",
    "    formatted_query = make_rag_prompt(query, result_str)\n",
    "    print(\"\\n********This is the RAG prompt********\\n\")\n",
    "    print(formatted_query)\n",
    "    print(\"\\n*********************************\\n\")\n",
    "    return get_completion(formatted_query, system_prompt)\n",
    "\n",
    "get_RAG_completion(\"Come le aziende possono usare i dati per prendere decisioni?\")"
   ]
  }
 ],
 "metadata": {
  "kernelspec": {
   "display_name": "Python 3",
   "language": "python",
   "name": "python3"
  },
  "language_info": {
   "codemirror_mode": {
    "name": "ipython",
    "version": 3
   },
   "file_extension": ".py",
   "mimetype": "text/x-python",
   "name": "python",
   "nbconvert_exporter": "python",
   "pygments_lexer": "ipython3",
   "version": "3.13.3"
  }
 },
 "nbformat": 4,
 "nbformat_minor": 5
}
